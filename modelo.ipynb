{
 "cells": [
  {
   "cell_type": "code",
   "execution_count": 1,
   "id": "752517c407f3c15",
   "metadata": {
    "ExecuteTime": {
     "end_time": "2025-07-24T13:42:44.633839Z",
     "start_time": "2025-07-24T13:42:40.580627Z"
    }
   },
   "outputs": [],
   "source": [
    "import tensorflow as tf\n",
    "from keras.src.applications.resnet import ResNet50\n",
    "from tensorflow.keras.preprocessing import image_dataset_from_directory\n",
    "from tensorflow.keras import layers, models, Model\n",
    "from tensorflow.keras.callbacks import EarlyStopping\n",
    "from tensorflow.keras.applications.resnet50 import preprocess_input\n",
    "import pandas as pd\n",
    "import numpy as np\n"
   ]
  },
  {
   "cell_type": "code",
   "execution_count": 2,
   "id": "dbd6a63bd477a6cb",
   "metadata": {
    "ExecuteTime": {
     "end_time": "2025-07-24T13:42:44.665171Z",
     "start_time": "2025-07-24T13:42:44.647516Z"
    }
   },
   "outputs": [
    {
     "name": "stdout",
     "output_type": "stream",
     "text": [
      "{'aguila arpia': 1, 'anaconda': 0, 'armadillo gigante': 0, 'boa constrictor': 0, 'buho cornudo': 0, 'cacique candela': 0, 'caiman aguja': 0, 'capibara': 0, 'caracara': 0, 'colibri esmeralda': 0, 'condor de los andes': 1, 'cusumbo': 0, 'delfin rosado': 1, 'flamenco': 0, 'gallito de roca': 0, 'garza blanca': 0, 'guacamaya azulamarilla': 1, 'guacamaya roja': 1, 'guatin': 0, 'hormiguero gigante': 0, 'iguana verde': 0, 'jaguar': 1, 'jaguarundi': 0, 'lagarto azul': 0, 'loro orejiamarillo': 0, 'manati del caribe': 1, 'marimonda': 0, 'martin pescador': 0, 'mico titi gris': 1, 'mono aullador': 0, 'mono lanudo': 0, 'mono nocturno': 0, 'musarana de cola corta colombiana': 0, 'neque': 0, 'nutria gigante': 1, 'oso andino': 0, 'oso de anteojos': 1, 'paujil': 0, 'pecari de collar': 0, 'perezoso de dos dedos': 0, 'perico carisucio': 0, 'perro de monte': 0, 'puma': 0, 'rana de cristal': 0, 'rana dorada': 1, 'rana venenosa azul': 0, 'tapaculo': 0, 'tapir amazonico': 1, 'tigrillo': 1, 'tinamu': 0, 'titi cabeciblanco': 0, 'tortuga charapa': 1, 'tucan toco': 0, 'venado cola blanca': 0, 'zorrillo listado': 0, 'zorro cangrejero': 0}\n"
     ]
    }
   ],
   "source": [
    "def create_species_extinction_map():\n",
    "    df = pd.read_csv('C:/Users/Natalia/Desktop/PADIA/endansys/etiquetas_animales.csv')\n",
    "    extinction_map = df.groupby('species')['status'].first().to_dict()\n",
    "    return extinction_map\n",
    "\n",
    "print(create_species_extinction_map())"
   ]
  },
  {
   "cell_type": "code",
   "execution_count": 3,
   "id": "b7cc4db9d7f7ec7c",
   "metadata": {
    "ExecuteTime": {
     "end_time": "2025-07-24T14:05:04.684015Z",
     "start_time": "2025-07-24T13:42:47.826955Z"
    }
   },
   "outputs": [
    {
     "name": "stdout",
     "output_type": "stream",
     "text": [
      "Found 1383 files belonging to 56 classes.\n",
      "Found 272 files belonging to 56 classes.\n",
      "Found 359 files belonging to 56 classes.\n",
      "Epoch 1/25\n",
      "WARNING:tensorflow:From C:\\Users\\Natalia\\Desktop\\PADIA\\animales\\.venv\\lib\\site-packages\\keras\\src\\backend\\tensorflow\\core.py:232: The name tf.placeholder is deprecated. Please use tf.compat.v1.placeholder instead.\n",
      "\n",
      "\u001b[1m44/44\u001b[0m \u001b[32m━━━━━━━━━━━━━━━━━━━━\u001b[0m\u001b[37m\u001b[0m \u001b[1m33s\u001b[0m 688ms/step - accuracy: 0.0517 - loss: 4.2729 - val_accuracy: 0.3051 - val_loss: 3.1562\n",
      "Epoch 2/25\n",
      "\u001b[1m44/44\u001b[0m \u001b[32m━━━━━━━━━━━━━━━━━━━━\u001b[0m\u001b[37m\u001b[0m \u001b[1m29s\u001b[0m 657ms/step - accuracy: 0.1975 - loss: 3.2927 - val_accuracy: 0.4853 - val_loss: 2.3481\n",
      "Epoch 3/25\n",
      "\u001b[1m44/44\u001b[0m \u001b[32m━━━━━━━━━━━━━━━━━━━━\u001b[0m\u001b[37m\u001b[0m \u001b[1m30s\u001b[0m 673ms/step - accuracy: 0.3136 - loss: 2.7306 - val_accuracy: 0.6213 - val_loss: 1.7216\n",
      "Epoch 4/25\n",
      "\u001b[1m44/44\u001b[0m \u001b[32m━━━━━━━━━━━━━━━━━━━━\u001b[0m\u001b[37m\u001b[0m \u001b[1m30s\u001b[0m 670ms/step - accuracy: 0.3841 - loss: 2.3484 - val_accuracy: 0.6875 - val_loss: 1.3831\n",
      "Epoch 5/25\n",
      "\u001b[1m44/44\u001b[0m \u001b[32m━━━━━━━━━━━━━━━━━━━━\u001b[0m\u001b[37m\u001b[0m \u001b[1m38s\u001b[0m 853ms/step - accuracy: 0.4277 - loss: 2.0766 - val_accuracy: 0.7206 - val_loss: 1.2074\n",
      "Epoch 6/25\n",
      "\u001b[1m44/44\u001b[0m \u001b[32m━━━━━━━━━━━━━━━━━━━━\u001b[0m\u001b[37m\u001b[0m \u001b[1m33s\u001b[0m 755ms/step - accuracy: 0.4995 - loss: 1.8413 - val_accuracy: 0.7353 - val_loss: 1.0290\n",
      "Epoch 7/25\n",
      "\u001b[1m44/44\u001b[0m \u001b[32m━━━━━━━━━━━━━━━━━━━━\u001b[0m\u001b[37m\u001b[0m \u001b[1m32s\u001b[0m 718ms/step - accuracy: 0.5291 - loss: 1.6454 - val_accuracy: 0.7757 - val_loss: 0.8523\n",
      "Epoch 8/25\n",
      "\u001b[1m44/44\u001b[0m \u001b[32m━━━━━━━━━━━━━━━━━━━━\u001b[0m\u001b[37m\u001b[0m \u001b[1m32s\u001b[0m 718ms/step - accuracy: 0.5704 - loss: 1.5121 - val_accuracy: 0.7904 - val_loss: 0.8495\n",
      "Epoch 9/25\n",
      "\u001b[1m44/44\u001b[0m \u001b[32m━━━━━━━━━━━━━━━━━━━━\u001b[0m\u001b[37m\u001b[0m \u001b[1m31s\u001b[0m 711ms/step - accuracy: 0.5853 - loss: 1.4708 - val_accuracy: 0.7574 - val_loss: 0.7954\n",
      "Epoch 10/25\n",
      "\u001b[1m44/44\u001b[0m \u001b[32m━━━━━━━━━━━━━━━━━━━━\u001b[0m\u001b[37m\u001b[0m \u001b[1m32s\u001b[0m 714ms/step - accuracy: 0.5892 - loss: 1.4033 - val_accuracy: 0.7978 - val_loss: 0.7282\n",
      "Epoch 11/25\n",
      "\u001b[1m44/44\u001b[0m \u001b[32m━━━━━━━━━━━━━━━━━━━━\u001b[0m\u001b[37m\u001b[0m \u001b[1m33s\u001b[0m 737ms/step - accuracy: 0.6234 - loss: 1.2921 - val_accuracy: 0.7978 - val_loss: 0.6831\n",
      "Epoch 12/25\n",
      "\u001b[1m44/44\u001b[0m \u001b[32m━━━━━━━━━━━━━━━━━━━━\u001b[0m\u001b[37m\u001b[0m \u001b[1m34s\u001b[0m 774ms/step - accuracy: 0.6090 - loss: 1.3167 - val_accuracy: 0.8125 - val_loss: 0.6382\n",
      "Epoch 13/25\n",
      "\u001b[1m44/44\u001b[0m \u001b[32m━━━━━━━━━━━━━━━━━━━━\u001b[0m\u001b[37m\u001b[0m \u001b[1m34s\u001b[0m 762ms/step - accuracy: 0.6847 - loss: 1.1518 - val_accuracy: 0.8051 - val_loss: 0.6222\n",
      "Epoch 14/25\n",
      "\u001b[1m44/44\u001b[0m \u001b[32m━━━━━━━━━━━━━━━━━━━━\u001b[0m\u001b[37m\u001b[0m \u001b[1m31s\u001b[0m 704ms/step - accuracy: 0.6393 - loss: 1.1361 - val_accuracy: 0.8051 - val_loss: 0.5999\n",
      "Epoch 15/25\n",
      "\u001b[1m44/44\u001b[0m \u001b[32m━━━━━━━━━━━━━━━━━━━━\u001b[0m\u001b[37m\u001b[0m \u001b[1m32s\u001b[0m 725ms/step - accuracy: 0.6911 - loss: 1.0171 - val_accuracy: 0.8199 - val_loss: 0.5954\n",
      "Epoch 16/25\n",
      "\u001b[1m44/44\u001b[0m \u001b[32m━━━━━━━━━━━━━━━━━━━━\u001b[0m\u001b[37m\u001b[0m \u001b[1m31s\u001b[0m 707ms/step - accuracy: 0.6945 - loss: 1.0107 - val_accuracy: 0.7941 - val_loss: 0.5838\n",
      "Epoch 17/25\n",
      "\u001b[1m44/44\u001b[0m \u001b[32m━━━━━━━━━━━━━━━━━━━━\u001b[0m\u001b[37m\u001b[0m \u001b[1m32s\u001b[0m 710ms/step - accuracy: 0.7023 - loss: 1.0190 - val_accuracy: 0.8199 - val_loss: 0.5726\n",
      "Epoch 18/25\n",
      "\u001b[1m44/44\u001b[0m \u001b[32m━━━━━━━━━━━━━━━━━━━━\u001b[0m\u001b[37m\u001b[0m \u001b[1m36s\u001b[0m 812ms/step - accuracy: 0.7143 - loss: 0.9340 - val_accuracy: 0.8162 - val_loss: 0.5721\n",
      "Epoch 19/25\n",
      "\u001b[1m44/44\u001b[0m \u001b[32m━━━━━━━━━━━━━━━━━━━━\u001b[0m\u001b[37m\u001b[0m \u001b[1m31s\u001b[0m 710ms/step - accuracy: 0.7198 - loss: 1.0022 - val_accuracy: 0.8309 - val_loss: 0.5559\n",
      "Epoch 20/25\n",
      "\u001b[1m44/44\u001b[0m \u001b[32m━━━━━━━━━━━━━━━━━━━━\u001b[0m\u001b[37m\u001b[0m \u001b[1m33s\u001b[0m 747ms/step - accuracy: 0.7032 - loss: 0.9351 - val_accuracy: 0.8235 - val_loss: 0.5463\n",
      "Epoch 21/25\n",
      "\u001b[1m44/44\u001b[0m \u001b[32m━━━━━━━━━━━━━━━━━━━━\u001b[0m\u001b[37m\u001b[0m \u001b[1m36s\u001b[0m 814ms/step - accuracy: 0.7347 - loss: 0.8761 - val_accuracy: 0.8199 - val_loss: 0.5690\n",
      "Epoch 22/25\n",
      "\u001b[1m44/44\u001b[0m \u001b[32m━━━━━━━━━━━━━━━━━━━━\u001b[0m\u001b[37m\u001b[0m \u001b[1m36s\u001b[0m 819ms/step - accuracy: 0.7477 - loss: 0.8647 - val_accuracy: 0.8272 - val_loss: 0.5714\n",
      "Epoch 23/25\n",
      "\u001b[1m44/44\u001b[0m \u001b[32m━━━━━━━━━━━━━━━━━━━━\u001b[0m\u001b[37m\u001b[0m \u001b[1m37s\u001b[0m 851ms/step - accuracy: 0.7290 - loss: 0.8718 - val_accuracy: 0.8272 - val_loss: 0.5442\n",
      "Epoch 24/25\n",
      "\u001b[1m44/44\u001b[0m \u001b[32m━━━━━━━━━━━━━━━━━━━━\u001b[0m\u001b[37m\u001b[0m \u001b[1m37s\u001b[0m 843ms/step - accuracy: 0.7253 - loss: 0.8801 - val_accuracy: 0.8346 - val_loss: 0.5515\n",
      "Epoch 25/25\n",
      "\u001b[1m44/44\u001b[0m \u001b[32m━━━━━━━━━━━━━━━━━━━━\u001b[0m\u001b[37m\u001b[0m \u001b[1m38s\u001b[0m 859ms/step - accuracy: 0.7422 - loss: 0.8336 - val_accuracy: 0.8382 - val_loss: 0.5311\n",
      "\u001b[1m9/9\u001b[0m \u001b[32m━━━━━━━━━━━━━━━━━━━━\u001b[0m\u001b[37m\u001b[0m \u001b[1m6s\u001b[0m 650ms/step - accuracy: 0.8619 - loss: 0.4505\n",
      "Precisión en validación: 83.82%\n",
      "\u001b[1m12/12\u001b[0m \u001b[32m━━━━━━━━━━━━━━━━━━━━\u001b[0m\u001b[37m\u001b[0m \u001b[1m8s\u001b[0m 652ms/step - accuracy: 0.8448 - loss: 0.4852\n",
      "Precisión en test: 82.73%\n",
      "Epoch 1/20\n",
      "\u001b[1m44/44\u001b[0m \u001b[32m━━━━━━━━━━━━━━━━━━━━\u001b[0m\u001b[37m\u001b[0m \u001b[1m55s\u001b[0m 1s/step - accuracy: 0.6939 - loss: 1.0827 - val_accuracy: 0.8272 - val_loss: 0.5461\n",
      "Epoch 2/20\n",
      "\u001b[1m44/44\u001b[0m \u001b[32m━━━━━━━━━━━━━━━━━━━━\u001b[0m\u001b[37m\u001b[0m \u001b[1m42s\u001b[0m 958ms/step - accuracy: 0.6796 - loss: 1.0677 - val_accuracy: 0.8309 - val_loss: 0.5656\n",
      "Epoch 3/20\n",
      "\u001b[1m44/44\u001b[0m \u001b[32m━━━━━━━━━━━━━━━━━━━━\u001b[0m\u001b[37m\u001b[0m \u001b[1m41s\u001b[0m 915ms/step - accuracy: 0.7116 - loss: 1.0114 - val_accuracy: 0.8199 - val_loss: 0.5821\n",
      "Epoch 4/20\n",
      "\u001b[1m44/44\u001b[0m \u001b[32m━━━━━━━━━━━━━━━━━━━━\u001b[0m\u001b[37m\u001b[0m \u001b[1m44s\u001b[0m 998ms/step - accuracy: 0.6965 - loss: 1.0082 - val_accuracy: 0.8088 - val_loss: 0.5951\n",
      "Epoch 5/20\n",
      "\u001b[1m44/44\u001b[0m \u001b[32m━━━━━━━━━━━━━━━━━━━━\u001b[0m\u001b[37m\u001b[0m \u001b[1m42s\u001b[0m 957ms/step - accuracy: 0.6848 - loss: 1.0141 - val_accuracy: 0.8125 - val_loss: 0.6025\n",
      "Epoch 6/20\n",
      "\u001b[1m44/44\u001b[0m \u001b[32m━━━━━━━━━━━━━━━━━━━━\u001b[0m\u001b[37m\u001b[0m \u001b[1m42s\u001b[0m 941ms/step - accuracy: 0.6877 - loss: 1.0400 - val_accuracy: 0.8088 - val_loss: 0.6070\n",
      "Epoch 7/20\n",
      "\u001b[1m44/44\u001b[0m \u001b[32m━━━━━━━━━━━━━━━━━━━━\u001b[0m\u001b[37m\u001b[0m \u001b[1m43s\u001b[0m 979ms/step - accuracy: 0.6778 - loss: 0.9948 - val_accuracy: 0.8125 - val_loss: 0.6071\n",
      "Epoch 8/20\n",
      "\u001b[1m44/44\u001b[0m \u001b[32m━━━━━━━━━━━━━━━━━━━━\u001b[0m\u001b[37m\u001b[0m \u001b[1m43s\u001b[0m 977ms/step - accuracy: 0.6978 - loss: 0.9872 - val_accuracy: 0.8088 - val_loss: 0.6061\n",
      "Epoch 9/20\n",
      "\u001b[1m44/44\u001b[0m \u001b[32m━━━━━━━━━━━━━━━━━━━━\u001b[0m\u001b[37m\u001b[0m \u001b[1m43s\u001b[0m 972ms/step - accuracy: 0.7280 - loss: 0.8850 - val_accuracy: 0.8088 - val_loss: 0.6054\n",
      "Epoch 10/20\n",
      "\u001b[1m44/44\u001b[0m \u001b[32m━━━━━━━━━━━━━━━━━━━━\u001b[0m\u001b[37m\u001b[0m \u001b[1m43s\u001b[0m 976ms/step - accuracy: 0.7161 - loss: 0.9490 - val_accuracy: 0.8125 - val_loss: 0.6052\n",
      "Epoch 11/20\n",
      "\u001b[1m44/44\u001b[0m \u001b[32m━━━━━━━━━━━━━━━━━━━━\u001b[0m\u001b[37m\u001b[0m \u001b[1m42s\u001b[0m 942ms/step - accuracy: 0.6989 - loss: 1.0103 - val_accuracy: 0.8088 - val_loss: 0.6035\n",
      "\u001b[1m9/9\u001b[0m \u001b[32m━━━━━━━━━━━━━━━━━━━━\u001b[0m\u001b[37m\u001b[0m \u001b[1m5s\u001b[0m 530ms/step - accuracy: 0.8406 - loss: 0.4686\n",
      "Precisión en validación con fine-tuning: 82.72%\n",
      "\u001b[1m12/12\u001b[0m \u001b[32m━━━━━━━━━━━━━━━━━━━━\u001b[0m\u001b[37m\u001b[0m \u001b[1m7s\u001b[0m 557ms/step - accuracy: 0.8475 - loss: 0.4958\n",
      "Precisión en test con fine-tuning: 82.73%\n"
     ]
    }
   ],
   "source": [
    "img_size = (224, 224)\n",
    "batch_size = 32\n",
    "\n",
    "train_ds = image_dataset_from_directory(\n",
    "    'C:/Users/Natalia/Desktop/PADIA/endansys/dataset/training',\n",
    "    image_size=img_size,\n",
    "    batch_size=batch_size,\n",
    "    shuffle=True\n",
    ")\n",
    "\n",
    "val_ds = image_dataset_from_directory(\n",
    "    'C:/Users/Natalia/Desktop/PADIA/endansys/dataset/validation',\n",
    "    image_size=img_size,\n",
    "    batch_size=batch_size,\n",
    "    shuffle=False\n",
    ")\n",
    "\n",
    "test_ds = image_dataset_from_directory(\n",
    "    'C:/Users/Natalia/Desktop/PADIA/endansys/dataset/testing',\n",
    "    image_size=img_size,\n",
    "    batch_size=batch_size,\n",
    "    shuffle=False\n",
    ")\n",
    "\n",
    "data_augmentation = tf.keras.Sequential([\n",
    "    layers.RandomFlip(\"horizontal_and_vertical\"),\n",
    "    layers.RandomRotation(0.2),\n",
    "    layers.RandomZoom(0.2),\n",
    "    layers.RandomContrast(0.1),\n",
    "    layers.RandomTranslation(0.1, 0.1),\n",
    "])\n",
    "\n",
    "base_model = ResNet50(\n",
    "    include_top=False,\n",
    "    weights='imagenet',\n",
    "    input_shape=(224, 224, 3)\n",
    ")\n",
    "base_model.trainable = False\n",
    "\n",
    "model = models.Sequential([\n",
    "    data_augmentation,\n",
    "    layers.Resizing(224, 224),\n",
    "    layers.Lambda(preprocess_input),\n",
    "    base_model,\n",
    "    layers.GlobalAveragePooling2D(),\n",
    "    layers.Dense(128, activation='relu'),\n",
    "    layers.Dropout(0.5),\n",
    "    layers.Dense(len(train_ds.class_names), activation='softmax')\n",
    "])\n",
    "\n",
    "model.compile(optimizer='adam',\n",
    "              loss='sparse_categorical_crossentropy',\n",
    "              metrics=['accuracy'])\n",
    "\n",
    "early_stopping = EarlyStopping(\n",
    "    patience=10,\n",
    "    restore_best_weights=True\n",
    ")\n",
    "\n",
    "model.fit(train_ds,\n",
    "          validation_data=val_ds,\n",
    "          epochs=25,\n",
    "          callbacks=[early_stopping])\n",
    "\n",
    "val_loss, val_acc = model.evaluate(val_ds)\n",
    "print(f\"Precisión en validación: {val_acc:.2%}\")\n",
    "\n",
    "test_loss, test_acc = model.evaluate(test_ds)\n",
    "print(f\"Precisión en test: {test_acc:.2%}\")\n",
    "\n",
    "#Aqui empieza el fine-tuning\n",
    "base_model.trainable = True\n",
    "fine_tune = 140\n",
    "\n",
    "for layer in base_model.layers[:fine_tune]:\n",
    "    layer.trainable = False\n",
    "\n",
    "#Recompilar con un learning mas bajo para el fine-tuning\n",
    "model.compile(optimizer=tf.keras.optimizers.Adam(0.000001),\n",
    "              loss='sparse_categorical_crossentropy',\n",
    "              metrics=['accuracy'])\n",
    "\n",
    "#Entrenamiento fine-tuning\n",
    "model.fit(train_ds,\n",
    "          validation_data=val_ds,\n",
    "          epochs=20,\n",
    "          callbacks=[early_stopping])\n",
    "\n",
    "val_loss, val_acc = model.evaluate(val_ds)\n",
    "print(f\"Precisión en validación con fine-tuning: {val_acc:.2%}\")\n",
    "\n",
    "test_loss, test_acc = model.evaluate(test_ds)\n",
    "print(f\"Precisión en test con fine-tuning: {test_acc:.2%}\")"
   ]
  },
  {
   "cell_type": "code",
   "execution_count": null,
   "id": "d353294f4ee97b1b",
   "metadata": {
    "ExecuteTime": {
     "end_time": "2025-07-24T14:05:26.709806Z",
     "start_time": "2025-07-24T14:05:26.701165Z"
    }
   },
   "outputs": [],
   "source": [
    "import json\n",
    "class_names_modified = [\n",
    "    name.lower()\n",
    "    .replace(\"_peligro\", \"\")\n",
    "    .replace(\"_\", \" \")\n",
    "    .strip()\n",
    "    for name in train_ds.class_names\n",
    "]"
   ]
  },
  {
   "cell_type": "code",
   "execution_count": 10,
   "id": "afe07b3fb1a63edd",
   "metadata": {
    "ExecuteTime": {
     "end_time": "2025-07-24T14:47:59.223390Z",
     "start_time": "2025-07-24T14:47:59.131171Z"
    }
   },
   "outputs": [
    {
     "name": "stdout",
     "output_type": "stream",
     "text": [
      "\u001b[1m1/1\u001b[0m \u001b[32m━━━━━━━━━━━━━━━━━━━━\u001b[0m\u001b[37m\u001b[0m \u001b[1m0s\u001b[0m 42ms/step\n",
      "La imagen probablemente pertenece a 'buho cornudo' con una confianza de 45.90%\n"
     ]
    }
   ],
   "source": [
    "from tensorflow.keras.utils import load_img, img_to_array\n",
    "from tensorflow.keras.applications.resnet50 import preprocess_input\n",
    "import numpy as np\n",
    "\n",
    "img_path = \"C:/Users/Natalia/Desktop/PADIA/endansys/dataset/testing/Buho_cornudo/32.jpg\"  # Cambia esto por la ruta de tu imagen\n",
    "img_size = (224, 224)\n",
    "\n",
    "# Cargar imagen y redimensionar\n",
    "img = load_img(img_path, target_size=img_size)\n",
    "\n",
    "# Convertir a array y escalar\n",
    "img_array = img_to_array(img)\n",
    "img_array = preprocess_input(img_array)  # Normalizar igual que en el modelo\n",
    "\n",
    "# Expandir dimensiones para simular un batch de tamaño 1\n",
    "img_array = np.expand_dims(img_array, axis=0)\n",
    "\n",
    "predictions = model.predict(img_array)\n",
    "class_names = train_ds.class_names\n",
    "\n",
    "predicted_class = np.argmax(predictions[0])\n",
    "confidence = 100 * np.max(predictions[0])\n",
    "\n",
    "print(f\"La imagen probablemente pertenece a '{class_names_modified[predicted_class]}' con una confianza de {confidence:.2f}%\")"
   ]
  },
  {
   "cell_type": "code",
   "execution_count": 11,
   "id": "b5775c65ffa11473",
   "metadata": {
    "ExecuteTime": {
     "end_time": "2025-07-24T14:48:02.391332Z",
     "start_time": "2025-07-24T14:48:02.377950Z"
    }
   },
   "outputs": [
    {
     "name": "stdout",
     "output_type": "stream",
     "text": [
      "El animal buho cornudo no está en peligro de extinción\n"
     ]
    }
   ],
   "source": [
    "especies = create_species_extinction_map()\n",
    "if especies[class_names_modified[predicted_class]] == '1':\n",
    "    print(f'El animal {class_names_modified[predicted_class]} está en peligro de extinción')\n",
    "else:\n",
    "    print(f'El animal {class_names_modified[predicted_class]} no está en peligro de extinción')"
   ]
  }
 ],
 "metadata": {
  "kernelspec": {
   "display_name": "Python 3",
   "language": "python",
   "name": "python3"
  },
  "language_info": {
   "codemirror_mode": {
    "name": "ipython",
    "version": 2
   },
   "file_extension": ".py",
   "mimetype": "text/x-python",
   "name": "python",
   "nbconvert_exporter": "python",
   "pygments_lexer": "ipython2",
   "version": "2.7.6"
  }
 },
 "nbformat": 4,
 "nbformat_minor": 5
}
